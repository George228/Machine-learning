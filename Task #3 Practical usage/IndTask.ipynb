{
 "cells": [
  {
   "cell_type": "code",
   "execution_count": 53,
   "metadata": {},
   "outputs": [],
   "source": [
    "import numpy as np\n",
    "import pandas as pd\n",
    "from sklearn.model_selection import train_test_split\n",
    "import matplotlib.pyplot as plt\n",
    "%matplotlib inline"
   ]
  },
  {
   "cell_type": "markdown",
   "metadata": {},
   "source": [
    "Data analysis"
   ]
  },
  {
   "cell_type": "code",
   "execution_count": 54,
   "metadata": {},
   "outputs": [
    {
     "data": {
      "text/html": [
       "<div>\n",
       "<style scoped>\n",
       "    .dataframe tbody tr th:only-of-type {\n",
       "        vertical-align: middle;\n",
       "    }\n",
       "\n",
       "    .dataframe tbody tr th {\n",
       "        vertical-align: top;\n",
       "    }\n",
       "\n",
       "    .dataframe thead th {\n",
       "        text-align: right;\n",
       "    }\n",
       "</style>\n",
       "<table border=\"1\" class=\"dataframe\">\n",
       "  <thead>\n",
       "    <tr style=\"text-align: right;\">\n",
       "      <th></th>\n",
       "      <th>country</th>\n",
       "      <th>continent</th>\n",
       "      <th>year</th>\n",
       "      <th>lifeExpectancy</th>\n",
       "      <th>population</th>\n",
       "      <th>gdpPerCapita</th>\n",
       "    </tr>\n",
       "  </thead>\n",
       "  <tbody>\n",
       "    <tr>\n",
       "      <th>0</th>\n",
       "      <td>Afghanistan</td>\n",
       "      <td>Asia</td>\n",
       "      <td>1952</td>\n",
       "      <td>28.801</td>\n",
       "      <td>8425333</td>\n",
       "      <td>779.445314</td>\n",
       "    </tr>\n",
       "    <tr>\n",
       "      <th>1</th>\n",
       "      <td>Afghanistan</td>\n",
       "      <td>Asia</td>\n",
       "      <td>1957</td>\n",
       "      <td>30.332</td>\n",
       "      <td>9240934</td>\n",
       "      <td>820.853030</td>\n",
       "    </tr>\n",
       "    <tr>\n",
       "      <th>2</th>\n",
       "      <td>Afghanistan</td>\n",
       "      <td>Asia</td>\n",
       "      <td>1962</td>\n",
       "      <td>31.997</td>\n",
       "      <td>10267083</td>\n",
       "      <td>853.100710</td>\n",
       "    </tr>\n",
       "    <tr>\n",
       "      <th>3</th>\n",
       "      <td>Afghanistan</td>\n",
       "      <td>Asia</td>\n",
       "      <td>1967</td>\n",
       "      <td>34.020</td>\n",
       "      <td>11537966</td>\n",
       "      <td>836.197138</td>\n",
       "    </tr>\n",
       "    <tr>\n",
       "      <th>4</th>\n",
       "      <td>Afghanistan</td>\n",
       "      <td>Asia</td>\n",
       "      <td>1972</td>\n",
       "      <td>36.088</td>\n",
       "      <td>13079460</td>\n",
       "      <td>739.981106</td>\n",
       "    </tr>\n",
       "  </tbody>\n",
       "</table>\n",
       "</div>"
      ],
      "text/plain": [
       "       country continent  year  lifeExpectancy  population  gdpPerCapita\n",
       "0  Afghanistan      Asia  1952          28.801     8425333    779.445314\n",
       "1  Afghanistan      Asia  1957          30.332     9240934    820.853030\n",
       "2  Afghanistan      Asia  1962          31.997    10267083    853.100710\n",
       "3  Afghanistan      Asia  1967          34.020    11537966    836.197138\n",
       "4  Afghanistan      Asia  1972          36.088    13079460    739.981106"
      ]
     },
     "execution_count": 54,
     "metadata": {},
     "output_type": "execute_result"
    }
   ],
   "source": [
    "data = pd.read_csv('countriesData.csv')\n",
    "data.head()"
   ]
  },
  {
   "cell_type": "code",
   "execution_count": 55,
   "metadata": {},
   "outputs": [
    {
     "data": {
      "text/html": [
       "<div>\n",
       "<style scoped>\n",
       "    .dataframe tbody tr th:only-of-type {\n",
       "        vertical-align: middle;\n",
       "    }\n",
       "\n",
       "    .dataframe tbody tr th {\n",
       "        vertical-align: top;\n",
       "    }\n",
       "\n",
       "    .dataframe thead th {\n",
       "        text-align: right;\n",
       "    }\n",
       "</style>\n",
       "<table border=\"1\" class=\"dataframe\">\n",
       "  <thead>\n",
       "    <tr style=\"text-align: right;\">\n",
       "      <th></th>\n",
       "      <th>year</th>\n",
       "      <th>lifeExpectancy</th>\n",
       "      <th>population</th>\n",
       "      <th>gdpPerCapita</th>\n",
       "    </tr>\n",
       "  </thead>\n",
       "  <tbody>\n",
       "    <tr>\n",
       "      <th>year</th>\n",
       "      <td>1.000000</td>\n",
       "      <td>0.435611</td>\n",
       "      <td>0.082308</td>\n",
       "      <td>0.227318</td>\n",
       "    </tr>\n",
       "    <tr>\n",
       "      <th>lifeExpectancy</th>\n",
       "      <td>0.435611</td>\n",
       "      <td>1.000000</td>\n",
       "      <td>0.064955</td>\n",
       "      <td>0.583706</td>\n",
       "    </tr>\n",
       "    <tr>\n",
       "      <th>population</th>\n",
       "      <td>0.082308</td>\n",
       "      <td>0.064955</td>\n",
       "      <td>1.000000</td>\n",
       "      <td>-0.025600</td>\n",
       "    </tr>\n",
       "    <tr>\n",
       "      <th>gdpPerCapita</th>\n",
       "      <td>0.227318</td>\n",
       "      <td>0.583706</td>\n",
       "      <td>-0.025600</td>\n",
       "      <td>1.000000</td>\n",
       "    </tr>\n",
       "  </tbody>\n",
       "</table>\n",
       "</div>"
      ],
      "text/plain": [
       "                    year  lifeExpectancy  population  gdpPerCapita\n",
       "year            1.000000        0.435611    0.082308      0.227318\n",
       "lifeExpectancy  0.435611        1.000000    0.064955      0.583706\n",
       "population      0.082308        0.064955    1.000000     -0.025600\n",
       "gdpPerCapita    0.227318        0.583706   -0.025600      1.000000"
      ]
     },
     "execution_count": 55,
     "metadata": {},
     "output_type": "execute_result"
    }
   ],
   "source": [
    "data.drop(['continent'], axis=1)\n",
    "\n",
    "data.corr()\n",
    "#ВВП"
   ]
  },
  {
   "cell_type": "code",
   "execution_count": 56,
   "metadata": {},
   "outputs": [
    {
     "name": "stdout",
     "output_type": "stream",
     "text": [
      "(1704, 6)\n",
      "****************************************\n",
      "<class 'pandas.core.frame.DataFrame'>\n",
      "RangeIndex: 1704 entries, 0 to 1703\n",
      "Data columns (total 6 columns):\n",
      "country           1704 non-null object\n",
      "continent         1704 non-null object\n",
      "year              1704 non-null int64\n",
      "lifeExpectancy    1704 non-null float64\n",
      "population        1704 non-null int64\n",
      "gdpPerCapita      1704 non-null float64\n",
      "dtypes: float64(2), int64(2), object(2)\n",
      "memory usage: 66.6+ KB\n"
     ]
    }
   ],
   "source": [
    "print(data.shape)\n",
    "print('*' * 40)\n",
    "data.info()"
   ]
  },
  {
   "cell_type": "code",
   "execution_count": 57,
   "metadata": {},
   "outputs": [],
   "source": [
    "def load_datasets(filename,data_columns,target_columns):\n",
    "    \n",
    "    df = pd.read_csv(filename, delimiter=',')\n",
    "    X = df[data_columns]\n",
    "    y = df[target_columns]\n",
    "    return X,y"
   ]
  },
  {
   "cell_type": "code",
   "execution_count": 58,
   "metadata": {},
   "outputs": [],
   "source": [
    "def split_datasets(X, y, test_size = 0.2):\n",
    " \n",
    "    X_train, X_test, y_train, y_test = train_test_split(X, y, test_size=test_size)\n",
    "    \n",
    "    return X_train, X_test, y_train, y_test"
   ]
  },
  {
   "cell_type": "code",
   "execution_count": 59,
   "metadata": {},
   "outputs": [],
   "source": [
    "def normalize(X):\n",
    "\n",
    "    mean = np.mean(X)\n",
    "    std = np.std(X)\n",
    "    X_new = (X-mean)/std\n",
    "    \n",
    "    return X_new, mean, std"
   ]
  },
  {
   "cell_type": "code",
   "execution_count": 60,
   "metadata": {},
   "outputs": [],
   "source": [
    "def prepare_X(X):\n",
    "\n",
    "    m = X.shape[0]\n",
    "    ones = np.ones((m, 1))\n",
    "    X_new = np.array(X[:])\n",
    "    X_new = np.column_stack((ones, X_new))\n",
    "    \n",
    "    return X_new"
   ]
  },
  {
   "cell_type": "code",
   "execution_count": 61,
   "metadata": {},
   "outputs": [],
   "source": [
    "def hypothesis(X, theta):\n",
    "    \n",
    "    h_thetha = np.dot(X,theta)\n",
    "\n",
    "    return h_thetha"
   ]
  },
  {
   "cell_type": "code",
   "execution_count": 62,
   "metadata": {},
   "outputs": [],
   "source": [
    "def cost_function(X, y, theta):\n",
    "  \n",
    "    m = X.shape[0]\n",
    "    if m == 0:\n",
    "        return None\n",
    "    \n",
    "    J = 1 / (2 * m) * sum((hypothesis(X,theta) - y)**2)\n",
    " \n",
    "    return J"
   ]
  },
  {
   "cell_type": "code",
   "execution_count": 63,
   "metadata": {},
   "outputs": [],
   "source": [
    "def derivative(X, y, thetha):\n",
    "    m = X.shape[0]\n",
    "    \n",
    "    d_thetha = np.dot(X.T, hypothesis(X, thetha) - y) / m\n",
    "\n",
    "    return d_thetha"
   ]
  },
  {
   "cell_type": "code",
   "execution_count": 64,
   "metadata": {},
   "outputs": [],
   "source": [
    "def gradient_descent(X, y, theta, alpha, num_iters, print_J = True):\n",
    "    \n",
    "    \n",
    "    m = X.shape[0]\n",
    "    J_history = []\n",
    "    J = cost_function(X, y, theta)\n",
    "    if print_J == True:\n",
    "        print(J)\n",
    "    J_history.append(J)\n",
    "    for i in range(num_iters):\n",
    "\n",
    "        delta = derivative(X,y,theta)/m\n",
    "        theta = theta - alpha * delta\n",
    "        J = cost_function(X,y,theta)\n",
    "\n",
    "        if print_J == True:\n",
    "            print(J)\n",
    "        J_history.append(J)\n",
    "    return theta, J_history"
   ]
  },
  {
   "cell_type": "code",
   "execution_count": 65,
   "metadata": {},
   "outputs": [
    {
     "name": "stdout",
     "output_type": "stream",
     "text": [
      "Dataset: X=(1704, 3), y=(1704,)\n"
     ]
    }
   ],
   "source": [
    "data_columns = [\"year\", \"population\", \"gdpPerCapita\"]\n",
    "target_column = \"lifeExpectancy\"\n",
    "X, y = load_datasets('countriesData.csv',data_columns,target_column)\n",
    "print('Dataset: X={}, y={}'.format(X.shape, y.shape))\n",
    "\n",
    "X[\"population\"]=X[\"population\"].div(1000000)"
   ]
  },
  {
   "cell_type": "code",
   "execution_count": 66,
   "metadata": {},
   "outputs": [
    {
     "name": "stdout",
     "output_type": "stream",
     "text": [
      "Training set: X=(1533, 3), y=(1533,)\n",
      "Test set: X=(171, 3), y=(171,)\n"
     ]
    }
   ],
   "source": [
    "X_train, X_test, y_train, y_test = split_datasets(X, y, 0.1)\n",
    "print('Training set: X={}, y={}'.format(X_train.shape, y_train.shape))\n",
    "print('Test set: X={}, y={}'.format(X_test.shape, y_test.shape))"
   ]
  },
  {
   "cell_type": "code",
   "execution_count": 67,
   "metadata": {},
   "outputs": [],
   "source": [
    "X_train_norm, mean, std = normalize(X_train)\n",
    "X = prepare_X(X_train_norm)\n",
    "theta = np.array([0, 0, 0, 0])"
   ]
  },
  {
   "cell_type": "code",
   "execution_count": 68,
   "metadata": {},
   "outputs": [],
   "source": [
    "y = y_train[:]"
   ]
  },
  {
   "cell_type": "code",
   "execution_count": 69,
   "metadata": {},
   "outputs": [
    {
     "name": "stdout",
     "output_type": "stream",
     "text": [
      "X: (1533, 4)\n",
      "y: (1533,)\n",
      "1840.350887924073\n"
     ]
    }
   ],
   "source": [
    "print('X: {}'.format(X.shape))\n",
    "print('y: {}'.format(y.shape))\n",
    "print(cost_function(X, y, theta))"
   ]
  },
  {
   "cell_type": "code",
   "execution_count": 70,
   "metadata": {},
   "outputs": [],
   "source": [
    "alpha = 50\n",
    "num_iters = 500"
   ]
  },
  {
   "cell_type": "code",
   "execution_count": 71,
   "metadata": {},
   "outputs": [
    {
     "name": "stdout",
     "output_type": "stream",
     "text": [
      "[59.27663532  4.02009541  0.78428834  6.60218   ]\n",
      "47.45661138427909\n"
     ]
    }
   ],
   "source": [
    "new_theta, Js = gradient_descent(X, y, theta, alpha, num_iters, False)\n",
    "print(new_theta)\n",
    "print(cost_function(X, y, new_theta))"
   ]
  },
  {
   "cell_type": "code",
   "execution_count": 72,
   "metadata": {},
   "outputs": [
    {
     "name": "stdout",
     "output_type": "stream",
     "text": [
      "      y_actual     y_pred        err\n",
      "596     77.030  68.920587  10.527604\n",
      "663     70.000  55.526306  20.676706\n",
      "1588    51.016  53.264186   4.406825\n",
      "839     67.297  61.951563   7.943054\n",
      "1549    61.800  51.782184  16.210058\n",
      "175     65.205  62.250670   4.530833\n",
      "1311    49.901  62.629501  25.507506\n",
      "1389    75.130  69.776442   7.125726\n",
      "1558    68.976  67.161618   2.630454\n",
      "1173    61.818  60.718886   1.777984\n",
      "1178    61.817  52.578919  14.944241\n",
      "1369    67.450  53.123929  21.239543\n",
      "1283    72.476  68.047392   6.110447\n",
      "1169    54.043  55.063998   1.889232\n",
      "1445    47.800  55.309687  15.710643\n",
      "323     65.152  61.388826   5.775992\n",
      "622     53.676  60.252640  12.252477\n",
      "268     45.569  53.320979  17.011520\n",
      "1093    70.260  57.188159  18.604955\n",
      "314     44.467  51.161057  15.053989\n",
      "284     74.126  62.357138  15.876834\n",
      "347     55.322  63.163466  14.174227\n",
      "556     38.308  53.066425  38.525700\n",
      "74      69.540  57.398780  17.459333\n",
      "675     69.500  57.644620  17.058100\n",
      "1648    50.254  53.343105   6.146982\n",
      "15      66.220  53.237186  19.605578\n",
      "446     54.640  52.967557   3.060841\n",
      "1651    62.820  57.053627   9.179200\n",
      "551     56.735  69.487336  22.477018\n",
      "...        ...        ...        ...\n",
      "47      42.731  63.996152  49.765163\n",
      "1337    70.300  62.387549  11.255264\n",
      "1138    46.608  61.486881  31.923449\n",
      "945     71.938  65.253269   9.292350\n",
      "1327    55.769  57.068718   2.330538\n",
      "840     47.453  48.725834   2.682305\n",
      "1555    69.582  60.964619  12.384497\n",
      "689     76.110  66.747515  12.301254\n",
      "145     58.450  49.979761  14.491427\n",
      "1276    69.210  58.014830  16.175654\n",
      "1619    78.242  91.319825  16.714584\n",
      "192     31.975  48.285803  51.011112\n",
      "874     71.028  65.758274   7.419224\n",
      "1199    71.752  63.541683  11.442632\n",
      "120     38.223  48.610410  27.175810\n",
      "333     42.587  58.943729  38.407799\n",
      "615     37.197  51.889016  39.497851\n",
      "812     68.015  59.529995  12.475197\n",
      "641     49.923  55.005196  10.180069\n",
      "939     59.371  52.975825  10.771546\n",
      "1143    74.080  62.258055  15.958349\n",
      "1148    77.320  79.754907   3.149129\n",
      "691     77.230  73.895152   4.318074\n",
      "1240    69.260  58.601059  15.389751\n",
      "1507    73.400  63.524641  13.454168\n",
      "139     57.251  57.930378   1.186666\n",
      "248     77.950  74.879046   3.939645\n",
      "1259    78.746  73.559634   6.586196\n",
      "808     56.528  53.971458   4.522611\n",
      "679     69.580  64.739010   6.957444\n",
      "\n",
      "[171 rows x 3 columns]\n",
      "39.93029447078816\n"
     ]
    }
   ],
   "source": [
    "X_test_proc = (X_test-mean)/std\n",
    "X_test_proc = prepare_X(X_test_proc)\n",
    "y_test_pred = hypothesis(X_test_proc, new_theta)\n",
    "rel_diff = np.abs(np.divide(y_test - y_test_pred, y_test)) * 100\n",
    "res = pd.DataFrame({'y_actual' : y_test, 'y_pred' : y_test_pred, 'err' : rel_diff})\n",
    "print(res)\n",
    "print(cost_function(X_test_proc, y_test, new_theta))"
   ]
  }
 ],
 "metadata": {
  "kernelspec": {
   "display_name": "Python 3",
   "language": "python",
   "name": "python3"
  },
  "language_info": {
   "codemirror_mode": {
    "name": "ipython",
    "version": 3
   },
   "file_extension": ".py",
   "mimetype": "text/x-python",
   "name": "python",
   "nbconvert_exporter": "python",
   "pygments_lexer": "ipython3",
   "version": "3.6.5"
  }
 },
 "nbformat": 4,
 "nbformat_minor": 2
}
